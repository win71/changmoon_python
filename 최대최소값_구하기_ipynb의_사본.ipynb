{
  "nbformat": 4,
  "nbformat_minor": 0,
  "metadata": {
    "colab": {
      "name": "최대최소값 구하기.ipynb의 사본",
      "version": "0.3.2",
      "provenance": [],
      "include_colab_link": true
    },
    "kernelspec": {
      "name": "python3",
      "display_name": "Python 3"
    }
  },
  "cells": [
    {
      "cell_type": "markdown",
      "metadata": {
        "id": "view-in-github",
        "colab_type": "text"
      },
      "source": [
        "<a href=\"https://colab.research.google.com/github/win71/changmoon_python/blob/master/%EC%B5%9C%EB%8C%80%EC%B5%9C%EC%86%8C%EA%B0%92_%EA%B5%AC%ED%95%98%EA%B8%B0_ipynb%EC%9D%98_%EC%82%AC%EB%B3%B8.ipynb\" target=\"_parent\"><img src=\"https://colab.research.google.com/assets/colab-badge.svg\" alt=\"Open In Colab\"/></a>"
      ]
    },
    {
      "cell_type": "code",
      "metadata": {
        "id": "AaDkvNFouxO4",
        "colab_type": "code",
        "outputId": "936d51a7-0e9c-4b2c-c615-d01bf5612d1c",
        "colab": {
          "base_uri": "https://localhost:8080/",
          "height": 36
        }
      },
      "source": [
        "# 최소값 구하기\n",
        "x=[2,34,21,11,10,45,32,34,21]\n",
        "\n",
        "min_val=x[0]\n",
        "for i in range(len(x)):\n",
        "  if min_val>=x[i]:\n",
        "    max_val=x[i]\n",
        "    k=i\n",
        "    min_val=x[k]\n",
        "print(k,min_val)\n",
        "     "
      ],
      "execution_count": 1,
      "outputs": [
        {
          "output_type": "stream",
          "text": [
            "0 2\n"
          ],
          "name": "stdout"
        }
      ]
    },
    {
      "cell_type": "code",
      "metadata": {
        "id": "NOoT32Gxxg89",
        "colab_type": "code",
        "outputId": "4948af68-ed2c-4890-b38f-2bf293b9107c",
        "colab": {
          "base_uri": "https://localhost:8080/",
          "height": 36
        }
      },
      "source": [
        "# 최대값 구하기:\n",
        "\n",
        "max_val=x[0]\n",
        "for i in range(len(x)):\n",
        "  if max_val<=x[i]:\n",
        "    max_val=x[i]\n",
        "    k=i\n",
        "    max_val=x[k]\n",
        "print(k, max_val)"
      ],
      "execution_count": 0,
      "outputs": [
        {
          "output_type": "stream",
          "text": [
            "5 45\n"
          ],
          "name": "stdout"
        }
      ]
    }
  ]
}