{
  "nbformat": 4,
  "nbformat_minor": 0,
  "metadata": {
    "kernelspec": {
      "display_name": "Python 3",
      "language": "python",
      "name": "python3"
    },
    "language_info": {
      "codemirror_mode": {
        "name": "ipython",
        "version": 3
      },
      "file_extension": ".py",
      "mimetype": "text/x-python",
      "name": "python",
      "nbconvert_exporter": "python",
      "pygments_lexer": "ipython3",
      "version": "3.7.0"
    },
    "colab": {
      "name": "naver_api_crawl_exer1.ipynb",
      "version": "0.3.2",
      "provenance": [],
      "include_colab_link": true
    }
  },
  "cells": [
    {
      "cell_type": "markdown",
      "metadata": {
        "id": "view-in-github",
        "colab_type": "text"
      },
      "source": [
        "<a href=\"https://colab.research.google.com/github/win71/changmoon_python/blob/master/naver_api_crawl_exer1.ipynb\" target=\"_parent\"><img src=\"https://colab.research.google.com/assets/colab-badge.svg\" alt=\"Open In Colab\"/></a>"
      ]
    },
    {
      "cell_type": "markdown",
      "metadata": {
        "id": "zLyMEZ6CkzE-",
        "colab_type": "text"
      },
      "source": [
        ""
      ]
    },
    {
      "cell_type": "code",
      "metadata": {
        "id": "PSdwum9rlTcP",
        "colab_type": "code",
        "outputId": "626d18a2-0492-464f-ff5c-84de2369e0a5",
        "colab": {
          "base_uri": "https://localhost:8080/",
          "height": 179
        }
      },
      "source": [
        "## 비로그인 방식을 통한 네이버 뉴스, 블로그, 까페 글 검색\n",
        "import os\n",
        "import sys\n",
        "import urllib.request\n",
        "import datetime\n",
        "import time\n",
        "import json\n",
        "!pip install config\n",
        "from config import *"
      ],
      "execution_count": 0,
      "outputs": [
        {
          "output_type": "stream",
          "text": [
            "Collecting config\n",
            "  Downloading https://files.pythonhosted.org/packages/59/6c/4ab0d80b22dca3baab49670b75ae2183b59649e9f27c11018075e509048e/config-0.4.2.tar.gz\n",
            "Building wheels for collected packages: config\n",
            "  Building wheel for config (setup.py) ... \u001b[?25l\u001b[?25hdone\n",
            "  Created wheel for config: filename=config-0.4.2-cp36-none-any.whl size=15134 sha256=3abcec37f14758baaca83ffccf828bfa020d9af3fc3904cbd49ff412cd714fd1\n",
            "  Stored in directory: /root/.cache/pip/wheels/51/7d/db/0e38d2ec57843d00cc39f8df3686984ccec689694f7bc78a38\n",
            "Successfully built config\n",
            "Installing collected packages: config\n",
            "Successfully installed config-0.4.2\n"
          ],
          "name": "stdout"
        }
      ]
    },
    {
      "cell_type": "code",
      "metadata": {
        "id": "ikZQ9RPLlbme",
        "colab_type": "code",
        "colab": {}
      },
      "source": [
        "#code 1\n",
        "def get_request_url(url):\n",
        "    req=urllib.request.Request(url)\n",
        "    req.add_header(\"X-Naver-Client-Id\",\"no7bnE59USNkL2gRGG4E\")\n",
        "    req.add_header(\"X-Naver-Client-Secret\",\"w168oCwQ8U\")\n",
        "    try:\n",
        "        response=urllib.request.urlopen(req)\n",
        "        if response.getcode()==200:\n",
        "            print(\"[%s] Url Request Sucess\"%datetime.datetime.now())\n",
        "            return response.read().decode('utf-8')\n",
        "    except Exception as e:\n",
        "        print(e)\n",
        "        print(\"[%s] Error for URL:%s\"%(datetime.datetime.now(),url))\n",
        "        return None"
      ],
      "execution_count": 0,
      "outputs": []
    },
    {
      "cell_type": "code",
      "metadata": {
        "id": "KrBpwXmPlONd",
        "colab_type": "code",
        "colab": {}
      },
      "source": [
        "#code 2\n",
        "def getNaverSearchResult(sNode,search_text,page_start,display):\n",
        "    base = \"https://openapi.naver.com/v1/search\"\n",
        "    node = \"/%s.json\" % sNode\n",
        "    parameters = \"?query=%s&start=%s&display=%s\" % (urllib.parse.quote(search_text), page_start, display)\n",
        "    url=base+node+parameters\n",
        "    \n",
        "    retData = get_request_url(url)\n",
        "    \n",
        "    if (retData == None):\n",
        "        return None\n",
        "    else:\n",
        "        return json.loads(retData)\n",
        "    "
      ],
      "execution_count": 0,
      "outputs": []
    },
    {
      "cell_type": "code",
      "metadata": {
        "id": "NlQ5LGcMl2H-",
        "colab_type": "code",
        "outputId": "8eb153fc-09e9-4d19-e2b5-edeb03014bf2",
        "colab": {
          "base_uri": "https://localhost:8080/",
          "height": 568
        }
      },
      "source": [
        "#code 3\n",
        "def getPostData(post,jsonResult):\n",
        "    title = post['title']\n",
        "    description = post['description']\n",
        "    org_link = post['originallink']\n",
        "    link = post['link']\n",
        "    \n",
        "    #Tue, 14 Feb 2017 18:46:00 +0900\n",
        "    pDate = datetime.datetime.strptime(post['pubDate'], '%a, %d %b %Y %H:%M:%S +0900')\n",
        "    pDate = pDate.strftime('%Y-%m-%d %H:%M:%S')\n",
        "    \n",
        "    jsonResult.append({'title':title, 'description':description,\n",
        "                      'org_link':org_link,'link':org_link,\n",
        "                      'pDate':pDate})\n",
        "    return\n",
        "\n",
        "def main():\n",
        "    \n",
        "    jsonResult=[]\n",
        "    \n",
        "    # 'news','blog','cafearticle'\n",
        "    sNode = 'news'\n",
        "    search_text = '성인매체'\n",
        "    display_count=100\n",
        "    \n",
        "    jsonSearch=getNaverSearchResult(sNode, search_text, 1, display_count)\n",
        "    \n",
        "    while ((jsonSearch != None) and (jsonSearch['display'] != 0)):\n",
        "        for post in jsonSearch['items']:\n",
        "            getPostData(post, jsonResult)\n",
        "            \n",
        "            nStart = jsonSearch['start'] + jsonSearch['display']\n",
        "            jsonSearch=getNaverSearchResult(sNode, search_text, nStart, display_count)\n",
        "            \n",
        "    with open('%s_naver_%s.json'%(search_text,sNode),'w',encoding='utf-8') as outfile:\n",
        "        retJson=json.dumps(jsonResult,\n",
        "                            indent=4,sort_keys=True,\n",
        "                            ensure_ascii=False)\n",
        "        outfile.write(retJson)\n",
        "    \n",
        "    print('%s_naver_%s.json SAVED'%(search_text,sNode))\n",
        "    \n",
        "if __name__=='__main__':\n",
        "    main()\n",
        "    "
      ],
      "execution_count": 0,
      "outputs": [
        {
          "output_type": "stream",
          "text": [
            "[2019-08-21 14:36:46.186953] Url Request Sucess\n",
            "[2019-08-21 14:36:47.415846] Url Request Sucess\n",
            "[2019-08-21 14:36:48.392692] Url Request Sucess\n",
            "[2019-08-21 14:36:49.552136] Url Request Sucess\n",
            "[2019-08-21 14:36:50.566152] Url Request Sucess\n",
            "[2019-08-21 14:36:51.551659] Url Request Sucess\n",
            "[2019-08-21 14:36:52.524011] Url Request Sucess\n",
            "[2019-08-21 14:36:53.487704] Url Request Sucess\n",
            "[2019-08-21 14:36:54.442920] Url Request Sucess\n",
            "[2019-08-21 14:36:55.488705] Url Request Sucess\n",
            "HTTP Error 400: Bad Request\n",
            "[2019-08-21 14:36:56.197201] Error for URL:https://openapi.naver.com/v1/search/news.json?query=%EC%84%B1%EC%9D%B8%EB%A7%A4%EC%B2%B4&start=1001&display=100\n"
          ],
          "name": "stdout"
        },
        {
          "output_type": "error",
          "ename": "TypeError",
          "evalue": "ignored",
          "traceback": [
            "\u001b[0;31m---------------------------------------------------------------------------\u001b[0m",
            "\u001b[0;31mTypeError\u001b[0m                                 Traceback (most recent call last)",
            "\u001b[0;32m<ipython-input-11-b5ee899fb47f>\u001b[0m in \u001b[0;36m<module>\u001b[0;34m()\u001b[0m\n\u001b[1;32m     41\u001b[0m \u001b[0;34m\u001b[0m\u001b[0m\n\u001b[1;32m     42\u001b[0m \u001b[0;32mif\u001b[0m \u001b[0m__name__\u001b[0m\u001b[0;34m==\u001b[0m\u001b[0;34m'__main__'\u001b[0m\u001b[0;34m:\u001b[0m\u001b[0;34m\u001b[0m\u001b[0;34m\u001b[0m\u001b[0m\n\u001b[0;32m---> 43\u001b[0;31m     \u001b[0mmain\u001b[0m\u001b[0;34m(\u001b[0m\u001b[0;34m)\u001b[0m\u001b[0;34m\u001b[0m\u001b[0;34m\u001b[0m\u001b[0m\n\u001b[0m\u001b[1;32m     44\u001b[0m \u001b[0;34m\u001b[0m\u001b[0m\n",
            "\u001b[0;32m<ipython-input-11-b5ee899fb47f>\u001b[0m in \u001b[0;36mmain\u001b[0;34m()\u001b[0m\n\u001b[1;32m     29\u001b[0m             \u001b[0mgetPostData\u001b[0m\u001b[0;34m(\u001b[0m\u001b[0mpost\u001b[0m\u001b[0;34m,\u001b[0m \u001b[0mjsonResult\u001b[0m\u001b[0;34m)\u001b[0m\u001b[0;34m\u001b[0m\u001b[0;34m\u001b[0m\u001b[0m\n\u001b[1;32m     30\u001b[0m \u001b[0;34m\u001b[0m\u001b[0m\n\u001b[0;32m---> 31\u001b[0;31m             \u001b[0mnStart\u001b[0m \u001b[0;34m=\u001b[0m \u001b[0mjsonSearch\u001b[0m\u001b[0;34m[\u001b[0m\u001b[0;34m'start'\u001b[0m\u001b[0;34m]\u001b[0m \u001b[0;34m+\u001b[0m \u001b[0mjsonSearch\u001b[0m\u001b[0;34m[\u001b[0m\u001b[0;34m'display'\u001b[0m\u001b[0;34m]\u001b[0m\u001b[0;34m\u001b[0m\u001b[0;34m\u001b[0m\u001b[0m\n\u001b[0m\u001b[1;32m     32\u001b[0m             \u001b[0mjsonSearch\u001b[0m\u001b[0;34m=\u001b[0m\u001b[0mgetNaverSearchResult\u001b[0m\u001b[0;34m(\u001b[0m\u001b[0msNode\u001b[0m\u001b[0;34m,\u001b[0m \u001b[0msearch_text\u001b[0m\u001b[0;34m,\u001b[0m \u001b[0mnStart\u001b[0m\u001b[0;34m,\u001b[0m \u001b[0mdisplay_count\u001b[0m\u001b[0;34m)\u001b[0m\u001b[0;34m\u001b[0m\u001b[0;34m\u001b[0m\u001b[0m\n\u001b[1;32m     33\u001b[0m \u001b[0;34m\u001b[0m\u001b[0m\n",
            "\u001b[0;31mTypeError\u001b[0m: 'NoneType' object is not subscriptable"
          ]
        }
      ]
    }
  ]
}