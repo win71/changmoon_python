{
  "nbformat": 4,
  "nbformat_minor": 0,
  "metadata": {
    "kernelspec": {
      "display_name": "Python 3",
      "language": "python",
      "name": "python3"
    },
    "language_info": {
      "codemirror_mode": {
        "name": "ipython",
        "version": 3
      },
      "file_extension": ".py",
      "mimetype": "text/x-python",
      "name": "python",
      "nbconvert_exporter": "python",
      "pygments_lexer": "ipython3",
      "version": "3.6.5"
    },
    "colab": {
      "name": "Chapter 02. 컬렉션 타입의 이해(list, tuple).ipynb",
      "version": "0.3.2",
      "provenance": [],
      "include_colab_link": true
    }
  },
  "cells": [
    {
      "cell_type": "markdown",
      "metadata": {
        "id": "view-in-github",
        "colab_type": "text"
      },
      "source": [
        "<a href=\"https://colab.research.google.com/github/win71/changmoon_python/blob/master/Chapter_02_%EC%BB%AC%EB%A0%89%EC%85%98_%ED%83%80%EC%9E%85%EC%9D%98_%EC%9D%B4%ED%95%B4(list%2C_tuple).ipynb\" target=\"_parent\"><img src=\"https://colab.research.google.com/assets/colab-badge.svg\" alt=\"Open In Colab\"/></a>"
      ]
    },
    {
      "cell_type": "markdown",
      "metadata": {
        "id": "qjJCDhXyUF-p",
        "colab_type": "text"
      },
      "source": [
        "## 학습목표\n",
        " 1. list, tuple에 대해 이해 및 실습\n"
      ]
    },
    {
      "cell_type": "markdown",
      "metadata": {
        "id": "21cYY96pUF-r",
        "colab_type": "text"
      },
      "source": [
        "### **리스트 & 튜플**\n",
        " * 복수개의 값을 담을 수 있는 데이터 구조\n",
        " * 실생활에서 사용하는 리스트(학생 리스트, 성적 리스트 등등)과 동일한 의미로 이해\n",
        " * list - mutable    (생성된 후에 변경 가능)  \n",
        " * tuple - immutable (생성된 후에 변경 불가능)  "
      ]
    },
    {
      "cell_type": "markdown",
      "metadata": {
        "id": "HbPVVyH6UF-s",
        "colab_type": "text"
      },
      "source": [
        "#### **리스트 초기화**\n",
        " - [] 안에 값을 담아서 생성\n",
        " - list() 함수로 생성\n",
        " - str.split()함수로 생성"
      ]
    },
    {
      "cell_type": "markdown",
      "metadata": {
        "id": "evwc4_IYUF-t",
        "colab_type": "text"
      },
      "source": [
        "* **list() 함수**\n",
        " + 다른 데이터 타입을 리스트로 변환할 때도 사용"
      ]
    },
    {
      "cell_type": "code",
      "metadata": {
        "id": "06dvTkdgUF-u",
        "colab_type": "code",
        "colab": {}
      },
      "source": [
        ""
      ],
      "execution_count": 0,
      "outputs": []
    },
    {
      "cell_type": "markdown",
      "metadata": {
        "id": "SVk4zohqUF-z",
        "colab_type": "text"
      },
      "source": [
        "+ **string split 함수**\n",
        " * 구분자로 구분되는 리스트를 반환 (빈번히 사용 됨)"
      ]
    },
    {
      "cell_type": "code",
      "metadata": {
        "id": "ddmmfVHsUF-0",
        "colab_type": "code",
        "colab": {}
      },
      "source": [
        ""
      ],
      "execution_count": 0,
      "outputs": []
    },
    {
      "cell_type": "markdown",
      "metadata": {
        "id": "bnYBeQObUF-3",
        "colab_type": "text"
      },
      "source": [
        "#### **리스트 indexing**\n",
        " * 문자열의 인덱싱과 동일하게 동작\n",
        " * [] 연산자를 이용하여 항목 얻어오기\n",
        " * [i] - i번째 원소를 반환\n",
        " * i가 음수인 경우도 가능하며 마지막원소가 -1로 하여 앞으로 갈때마다 1씩 감소함"
      ]
    },
    {
      "cell_type": "code",
      "metadata": {
        "id": "XrJtXfa5UF-4",
        "colab_type": "code",
        "colab": {}
      },
      "source": [
        ""
      ],
      "execution_count": 0,
      "outputs": []
    },
    {
      "cell_type": "markdown",
      "metadata": {
        "id": "YrQi2vTpUF-7",
        "colab_type": "text"
      },
      "source": [
        "#### **리스트 개별 아이템에 접근**\n",
        " - 인덱스에 접근하여 값을 업데이트 가능"
      ]
    },
    {
      "cell_type": "code",
      "metadata": {
        "id": "xiDxuwU7UF-8",
        "colab_type": "code",
        "colab": {}
      },
      "source": [
        ""
      ],
      "execution_count": 0,
      "outputs": []
    },
    {
      "cell_type": "markdown",
      "metadata": {
        "id": "V7nI_Z7LUF_A",
        "colab_type": "text"
      },
      "source": [
        "#### **리스트 slicing**\n",
        " - 문자열 슬라이싱과 동일하게 동작\n",
        " - 슬라이싱의 결과 역시 list!"
      ]
    },
    {
      "cell_type": "code",
      "metadata": {
        "id": "I3lsAhkUUF_B",
        "colab_type": "code",
        "colab": {}
      },
      "source": [
        ""
      ],
      "execution_count": 0,
      "outputs": []
    },
    {
      "cell_type": "markdown",
      "metadata": {
        "id": "CAsYotC_UF_E",
        "colab_type": "text"
      },
      "source": [
        "### list 멤버 함수\n",
        " - 생성된 리스트 객체에 동작하는 함수\n",
        " - 향후, 클래스와 멤버 함수 개념을 이해할 예정"
      ]
    },
    {
      "cell_type": "markdown",
      "metadata": {
        "id": "zSDrVaAWUF_F",
        "colab_type": "text"
      },
      "source": [
        "* **append()**\n",
        " + 리스트의 끝에 항목을 추가함"
      ]
    },
    {
      "cell_type": "code",
      "metadata": {
        "id": "-ua2gAq7UF_G",
        "colab_type": "code",
        "colab": {}
      },
      "source": [
        ""
      ],
      "execution_count": 0,
      "outputs": []
    },
    {
      "cell_type": "markdown",
      "metadata": {
        "id": "SyLEXUMUUF_J",
        "colab_type": "text"
      },
      "source": [
        "+ **extend()**\n",
        " * 리스트를 연장\n",
        " * += 로도 가능함"
      ]
    },
    {
      "cell_type": "code",
      "metadata": {
        "id": "XwhcC3MDUF_L",
        "colab_type": "code",
        "colab": {}
      },
      "source": [
        ""
      ],
      "execution_count": 0,
      "outputs": []
    },
    {
      "cell_type": "markdown",
      "metadata": {
        "id": "LERSuz6hUF_P",
        "colab_type": "text"
      },
      "source": [
        "+ **insert()로 항목추가**\n",
        " * 리스트의 원하는 위치에 추가 가능\n",
        " * 앞에 인덱스를, 뒤에 아이템을 명시"
      ]
    },
    {
      "cell_type": "markdown",
      "metadata": {
        "id": "lzxXRGqXUF_Q",
        "colab_type": "text"
      },
      "source": [
        "+ **remove()**\n",
        " * 값으로 항목 삭제"
      ]
    },
    {
      "cell_type": "code",
      "metadata": {
        "id": "1fQYIJ0OUF_R",
        "colab_type": "code",
        "colab": {}
      },
      "source": [
        ""
      ],
      "execution_count": 0,
      "outputs": []
    },
    {
      "cell_type": "markdown",
      "metadata": {
        "id": "BdJSmtNdUF_W",
        "colab_type": "text"
      },
      "source": [
        "+ **pop()**\n",
        "  - 지우고자 하는 아이템을 반환 후, 삭제"
      ]
    },
    {
      "cell_type": "code",
      "metadata": {
        "id": "2JO2NWUqUF_Y",
        "colab_type": "code",
        "colab": {}
      },
      "source": [
        ""
      ],
      "execution_count": 0,
      "outputs": []
    },
    {
      "cell_type": "markdown",
      "metadata": {
        "id": "Q2Lag8-eUF_b",
        "colab_type": "text"
      },
      "source": [
        "+ **index()**\n",
        " * 찾고자 하는 값의 인덱스 반환"
      ]
    },
    {
      "cell_type": "code",
      "metadata": {
        "id": "GOsrepdHUF_c",
        "colab_type": "code",
        "colab": {}
      },
      "source": [
        ""
      ],
      "execution_count": 0,
      "outputs": []
    },
    {
      "cell_type": "markdown",
      "metadata": {
        "id": "Ung9hA5kUF_f",
        "colab_type": "text"
      },
      "source": [
        "* **in 키워드**\n",
        " + 리스트 내에 해당 값이 존재하는지 확인\n",
        " + value in [list]\n",
        " + True, False 중 한가지로 반환"
      ]
    },
    {
      "cell_type": "code",
      "metadata": {
        "id": "xtBqHSIOUF_g",
        "colab_type": "code",
        "colab": {}
      },
      "source": [
        ""
      ],
      "execution_count": 0,
      "outputs": []
    },
    {
      "cell_type": "code",
      "metadata": {
        "id": "e83d76nCUF_j",
        "colab_type": "code",
        "colab": {}
      },
      "source": [
        ""
      ],
      "execution_count": 0,
      "outputs": []
    },
    {
      "cell_type": "markdown",
      "metadata": {
        "id": "R4uWkNa6UF_m",
        "colab_type": "text"
      },
      "source": [
        "* **list 정렬**\n",
        " + sort() -> 리스트 자체를 내부적으로 정렬\n",
        " + sorted() -> 리스트의 정렬된 복사본을 반환"
      ]
    },
    {
      "cell_type": "code",
      "metadata": {
        "id": "8WuN76AVUF_n",
        "colab_type": "code",
        "colab": {}
      },
      "source": [
        ""
      ],
      "execution_count": 0,
      "outputs": []
    },
    {
      "cell_type": "markdown",
      "metadata": {
        "id": "AItdRvsMUF_q",
        "colab_type": "text"
      },
      "source": [
        "### **tuple**\n",
        " - 리스트와 같이 복수개의 값을 갖는 컬렉션 타입\n",
        " - 생성된 후 변경이 불가능"
      ]
    },
    {
      "cell_type": "code",
      "metadata": {
        "id": "x6nDa96QUF_r",
        "colab_type": "code",
        "colab": {}
      },
      "source": [
        ""
      ],
      "execution_count": 0,
      "outputs": []
    },
    {
      "cell_type": "markdown",
      "metadata": {
        "id": "ZGymOEyzUF_u",
        "colab_type": "text"
      },
      "source": [
        "#### **tuple unpacking**\n",
        " - 튜플의 값을 차례대로 변수에 대입"
      ]
    },
    {
      "cell_type": "code",
      "metadata": {
        "id": "u_oE0Ge-UF_v",
        "colab_type": "code",
        "colab": {}
      },
      "source": [
        ""
      ],
      "execution_count": 0,
      "outputs": []
    },
    {
      "cell_type": "markdown",
      "metadata": {
        "id": "5LH33dndUF_0",
        "colab_type": "text"
      },
      "source": [
        "* **연습문제** a와 b의 값을 교환하시오"
      ]
    },
    {
      "cell_type": "code",
      "metadata": {
        "id": "bUhTX9kWUF_1",
        "colab_type": "code",
        "colab": {}
      },
      "source": [
        ""
      ],
      "execution_count": 0,
      "outputs": []
    }
  ]
}